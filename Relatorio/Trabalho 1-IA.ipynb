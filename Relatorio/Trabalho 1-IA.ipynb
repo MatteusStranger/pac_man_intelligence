{
 "cells": [
  {
   "cell_type": "markdown",
   "metadata": {},
   "source": [
    "# **Trabalho 1 - PAC MAN**\n",
    "\n",
    "Autores:\n",
    "\n",
    "Christian Maekawa - xxxxxx <br> \n",
    "Giovane de Morais - 192683 <br>\n",
    "Maisa Silva       - 181831 <br>\n",
    "Matteus Vargas    - 262885 <br>\n",
    "Stéfani Fernandes - 147939 <br>\n",
    "\n",
    "\n"
   ]
  },
  {
   "cell_type": "markdown",
   "metadata": {},
   "source": [
    "# Introdução\n",
    "\n",
    "O presente relatório apresenta a descrição das estratégias adotadas para a resolução do Projeto 1 da disciplina Introdução à Inteligência Artificial, ministrada no primeiro semestre de 2020 pela professora Dra. Esther Luna Colombini.\n",
    "\n",
    "De acordo com a exigência do projeto, o grupo deveria modelar o jogo \"Pac Man\" com base em técnicas de computação evolutiva, avaliando essa solução de acordo com diversos parâmetros."
   ]
  },
  {
   "cell_type": "markdown",
   "metadata": {},
   "source": [
    "# Problemática e Contextualização\n",
    "\n",
    "Esta obra trata de levar a IA para o personagem \"come come\" do jogo Pac Man. Este é um jogo no qual existem  dois  tipos de  personagens: o “come come”, com o objetivo de percorrer todo o cenário comendo as bolinhas / pilulas do ambiente sem ser pego pelos fantasmas, chegando até o ponto de objetivo. Por sua vez, os fantasmas, cujo objetivo é alcançar o “come come” se colocando na mesma posição que este no cenário. O jogo acaba em duas situações: “come come” é atingido, ou atinge, os fantasmas e perde; ou percorre todo o cenário e vence o jogo. O “come come” não consegue atravessar as “paredes” do cenário, sempre prefere caminhos aonde tenham pílulas para ele consumir e tem preferência por não percorrer espaços vazios, sempre evitando-os.\n"
   ]
  },
  {
   "cell_type": "markdown",
   "metadata": {},
   "source": [
    "# Metodologia e Ferramentas\n",
    "\n",
    "Nesta problemática, em específico, os fantasmas são imóveis e o labirinto é construído em um arquivo separado chamado 'maze.in'. O seu desenho pode ser bastante customizado em termos de dimensões e layout interno, desde que respeite condições específicas como: possibilitar pelo menos um caminho para a vitória do “come come”, possuir suas bordas / limites totalmente fechados e possuir única e exclusivamente os seguintes caracteres em sua composição:\n",
    "\n",
    "- '.': pílulas / bolinhas (que contam como valor 1);\n",
    "- '@': “come come”;\n",
    "- '&': fantasma;\n",
    "- ' ': espaços vazios;\n",
    "- '$': objetivo;\n",
    "- '+': caminho percorrido pelo agente inteligente;\n",
    "\n",
    "A regra do jogo já está contida dentro dos próprios algoritmos de busca. Basicamente o “come come” deve evitar três elementos, por razões diferentes:\n",
    "\n",
    "- '#': parede, por não conseguir atravessar;\n",
    "- '&': fantasma, pois imputa a derrota ao “come come”;\n",
    "- ' ': espaço vazio, por não conseguir percorrer espaços vazios;\n",
    "\n",
    "Quaisquer caracteres diferente disso ocasionará erro e será retornada a seguinte mensagem: \"Não há caminho\". Essa mesma mensagem será retornada caso a busca também não encontre caminho.\n",
    "\n",
    "Segue abaixo um exemplo de mapa utilizado nas buscas inteligentes implementadas:"
   ]
  },
  {
   "cell_type": "markdown",
   "metadata": {},
   "source": [
    "<img src=\"ImagensIA/mapa.png\">"
   ]
  },
  {
   "cell_type": "markdown",
   "metadata": {},
   "source": [
    "Dado o mapa, durante a instanciação, o agente deve ler o mapa e capturar as posições inicial e final, no arquivo 'main'. Isso não quer dizer que o layout do mapa será descartado. Ele ainda servirá de apoio durante a busca pelo melhor caminho. Além disso, as dimensões do mesmo serão uteis futuramente. \n",
    "\n",
    "Sendo o “come come” o único elemento móvel neste cenário, deverão ser implementados cinco tipos de métodos inteligentes, sendo eles: dois métodos de busca sem informação, dois métodos de pesquisa informada de heurísticas distintas e um método de busca local.\n",
    "\n",
    "O maior desafio a ser transposto nesta obra é que, uma vez desconhecido pelo agente, o cenário deve ser percorrido de forma otimizada todo levando em consideração que este o agente inteligente (“come come”) pode encontrar um dos três fantasmas e, caso isso aconteça, todo o plano de varredura de cenário definido pela inteligência artificial deve ser modificado.\n"
   ]
  },
  {
   "cell_type": "markdown",
   "metadata": {},
   "source": [
    "# Estrutura\n",
    "\n",
    "Ainda durante a fase de construção, o agente usará de uma classe importante chamada No, localizado em 'tools/estrutura_dados'. \n",
    "\n",
    "Essa classe será utilizada durante as buscas. Esta utiliza os caracteres do mapa e os representar como um nó de um grafo, com os seguintes componentes:\n",
    "\n",
    "- A “posição atual” com as coordenadas x e y;\n",
    "- O elemento “pai” como o nó de origem;\n",
    "- A variável “G” como a distância do agente em relação ao nó inicial;\n",
    "- A variável “H” como a distância do agente em relação ao nó final (esse campo, durante a busca informada, conterá o valor calculado pela heurística);\n",
    "-  A variável “F” como o custo total para o agente percorrer o percurso (inicio – fim);\n",
    "\n",
    "Neste caso, o melhor cenário seria o agente calcular o menor caminho, sem fantasmas ou espaços para atrapalhá-lo. Já no pior cenário, além dos fantasmas e espaços durante o trajeto, o calculo do objetivo '$' pode ter levado o “come come” para caminhos de maior gasto ou, ainda pior, o objetivo pode estar envolto de espaços vazios, ou seja, impossibilidade de término do trajeto.\n",
    "\n",
    "Ao final da execução do algoritmo de busca, o mapa é mostrado na tela, com o carácter '+' representando o caminho percorrido pelo “come come”, além da lista de nós visitados na forma de coordenadas (x,y) e o custo total do caminho."
   ]
  },
  {
   "cell_type": "markdown",
   "metadata": {},
   "source": [
    "# Algoritmos de Busca Inteligente\n",
    "\n",
    "Conforme explanado inicialmente deverão ser implementados dois métodos de busca sem informação, dois métodos de pesquisa informada de heurísticas distintas e um método de busca local. Segue abaixo os algoritmos eleitos para a resolução da problemática “Pac Man” de acordo com a proposta."
   ]
  },
  {
   "cell_type": "markdown",
   "metadata": {},
   "source": [
    "## A*\n",
    "\n",
    "O algoritmo A* (também denominado “A-estrela”)  foi uma das opções usadas para resolver a problemática do Pac Man.  Este algoritmo utiliza o custo do caminho completo, o custo para o nó inicial e o custo estimado para o nó de objetivo no calculo heurístico. Neste modelo a heurística adotada para orientar a pesquisa é a “Distância de Manhattan”.  O A* inicia a partir do nó inicial, expande-se à todos os vizinhos e atualiza o custo do caminho completo, respectivamente. Este seleciona o vizinho com o menor custo e repete o processo até encontrar o nó de objetivo. \n",
    "\n",
    "No caso deste trabalho em específico esse processo foi realizado pelo A* classificando a lista de nós abertos em ordem crescente e escolhendo o menos custoso. O seu funcionamento se dá da seguinte forma:\n",
    "\n",
    "- Criação de listas para nós abertos e nós fechados (aberto, fechado);\n",
    "- Criação de um nó inicial e um nó de objetivo, utilizando a classe “No”;\n",
    "- Adição do nó inicial na lista aberta;\n",
    "- Executar laço de repetição da condição anterior até que a lista aberta esteja vazia;\n",
    "- Ordenação da lista aberta para obter o nó com o menor custo primeiro;\n",
    "- Obtenção do nó com o menor custo;\n",
    "- Adicionar o nó atual à lista fechada, ou seja, que não será mais visitado;\n",
    "- Descompactação da posição atual do nó;\n",
    "- Obtenção os vizinhos adjacentes;\n",
    "- Executar o mesmo laço de repetição inicial nos vizinhos;\n",
    "- Obtenção do valor do mapa;\n",
    "- Verificar se o nó é o objetivo. Caso sim, encerrar. Caso não, prosseguir com próximo passo;\n",
    "- Verificar se o nó é uma parede ('#'), um fantasma ('&') ou um espaço em branco (' '). Caso sim, os mesmos devem ser ignorados e o algoritmo deve considerar uma opção alternativa;\n",
    "- Criar um nó vizinho com a classe “No”;\n",
    "- Verificar se o vizinho está na lista fechada. Caso sim, verificar a disponibilidade de outro vizinho;\n",
    "- Gerar heurística “Distância de Manhattan”;\n",
    "- Verificar se o vizinho está na lista aberta e se ele tem um valor f (custo total) menor. Caso sim, adicionar o vizinho à lista aberta;\n",
    "- Ao final da iteração dos vizinhos, verificar se a meta foi atingida. Caso sim, retorne o caminho realizado na tela. Senão, retorne vazio com a mensagem \"Não há caminho\";\n",
    "\n",
    "A * é completo e ideal para a resolução deste problema. O algoritmo encontra o caminho mais curto para a meta. A complexidade do tempo é $O(n)$ em uma grade e $O(b^d)$ em um grafo/árvore com um fator de ramificação (b) e uma profundidade (d). O fator de ramificação é o número médio de nós vizinhos que podem ser expandidos a partir de cada nó e a profundidade é o número médio de níveis em um grafo/árvore."
   ]
  },
  {
   "cell_type": "markdown",
   "metadata": {},
   "source": [
    "## Best-first search (BFS) \n",
    "\n",
    "Best-first search (BFS) é muito semelhante ao A*. O algorítimo também utiliza heurística da “Distância de Manhattan”, sem superestimar o custo da meta. O BFS começa a trajetória em um nó inicial e atualiza os nós vizinhos com uma estimativa do custo para o nó do objetivo. Para isso, o algoritmo seleciona a vizinhança com o menor custo e continua a expandir os nós até atingir o nó da meta, favorecendo nós que estão próximos ao nó de objetivo. Nesta problemática o BFS foi implementado classificando a lista de nós abertos em ordem crescente. \n",
    "\n",
    "A única diferença entre o BFS com o A*  é que o custo total (“F”) recebe apenas o valor da heurística calculada (enquanto na A* o custo total (“F”) recebe a soma da distância do nó inicial com o valor da heurística). O seu funcionamento se dá da seguinte forma:\n",
    "\n",
    "- Criação de listas para nós abertos e nós fechados (aberto, fechado);\n",
    "- Criação de um nó inicial e um nó de objetivo, utilizando a classe “No”;\n",
    "- Adição do nó inicial na lista aberta;\n",
    "- Executar laço de repetição da condição anterior até que a lista aberta esteja vazia;\n",
    "- Ordenação da lista aberta para obter o nó com o menor custo primeiro;\n",
    "- Obtenção do nó com o menor custo;\n",
    "- Adicionar o nó atual à lista fechada, ou seja, que não será mais visitado;\n",
    "- Descompactação da posição atual do nó;\n",
    "- Obtenção os vizinhos adjacentes;\n",
    "- Executar o mesmo laço de repetição inicial nos vizinhos;\n",
    "- Obtenção do valor do mapa;\n",
    "- Verificar se o nó é o objetivo. Caso sim, encerrar. Caso não, prosseguir com próximo passo;\n",
    "- Verificar se o nó é uma parede ('#'), um fantasma ('&') ou um espaço em branco (' '). Caso sim, os mesmos devem ser ignorados e o algoritmo deve considerar uma opção alternativa;\n",
    "- Criar um nó vizinho com a classe “No”;\n",
    "- Verificar se o vizinho está na lista fechada. Caso sim, verificar a disponibilidade de outro vizinho;\n",
    "- Gerar heurística “Distância de Manhattan”;\n",
    "- Ao final da iteração dos vizinhos, verificar se a meta foi atingida. Caso sim, retorne o caminho realizado na tela. Senão, retorne vazio com a mensagem \"Não há caminho\";\n",
    "\n",
    " O BFS tem uma complexidade do tempo de $O(n)$ em uma grid e $O(b^d)$ em um grafo/árvore com um fator de ramificação (b) e uma profundidade (d). "
   ]
  },
  {
   "cell_type": "markdown",
   "metadata": {},
   "source": [
    "## Busca em Largura\n",
    "\n",
    "A busca em largura é um algoritmo de busca sem informação que busca em uma direção a uma meta de forma “lateral”. BFS define um nó inicial (start) e o expande para os nós vizinhos por amplitude, através de uma fila denominada FIFO (First In First Out). O BFS é completo, pois não ficará preso em um loop infinito se houver um nó de objetivo no espaço de pesquisa.\n",
    "A busca em largura é capaz de encontrar a solução ideal com boa taxa de assertividade, mas isso leva um tempo consideravelmente maior que outros algoritmos além de consumir muita memória (esta não é tão eficiente em termos de memória quanto a pesquisa profunda em árvores). A complexidade do tempo é calculada em $O(n)$ em um mapa de $O(b^d)$ em um grafo/árvore com um fator de ramificação (b) e uma profundidade (d). A BFS é ideal em cenários onde o espaço de pesquisa não é muito grande e quando encontrar uma solução ideal for imprescindível. Segue abaixo o passo a passo do funcionamento do algoritmo.\n",
    " - Criar listas para nós abertos e nós fechados;\n",
    " - Criar um nó inicial e um nó de objetivo;\n",
    " - Adicionar o nó inicial;\n",
    " - Repetir até que a lista aberta esteja vazia;\n",
    " - Obter o primeiro nó (FIFO);\n",
    " - Adicionar o nó atual à lista fechada;\n",
    " - Verificar o atingimento da meta. Caso não, prosseguir com os passos abaixo;\n",
    " - Descompactar a posição atual do nó;\n",
    " - Obter “vizinhos”;\n",
    " - Realizar loop para os “vizinhos”;\n",
    " - Obter valor do mapa;\n",
    " - Verificar se o nó é uma parede, um fantasma ou um espaço em branco;\n",
    " - Criar um nó vizinho;\n",
    " - Verificar se o vizinho está na lista fechada;\n",
    " - Adicionar o nó, se não estiver aberto;\n",
    " - Retornar o caminho;\n",
    "\n"
   ]
  },
  {
   "cell_type": "markdown",
   "metadata": {},
   "source": [
    "## DFS (Busca em Profundidade)\n",
    "\n",
    "A busca em profundidade (DFS) também é um algoritmo de busca sem informação onde o mesmo começa a busca em um nó inicial (start) e se expande aos nós vizinhos em profundidade até atingir um nó de objetivo (end). Também é implementado com uma fila, porém esta é denominada LIFO (Last In First Out).\n",
    "A pesquisa em profundidade pode ser repetida para sempre se o espaço de pesquisa for infinito e o nó da meta não estiver na profundidade do caminho de pesquisa atual. Um algoritmo DFS pode ignorar muitos nós se atingir o fim na profundidade de uma árvore e, portanto, é mais eficiente em termos de memória (por isso este e suas variantes são utilizadas nas pesquisas de IA) do que a primeira pesquisa em alguns casos entretanto pouco garantido que este encontre a solução ideal. A complexidade do tempo é $O(n)$ em um mapa e $O(b^d)$ em um grafo com um fator de ramificação (b) e uma profundidade (d). Segue abaixo o passo a passo de execução da DFS.\n",
    " - Criar listas para nós abertos e nós fechados\n",
    " - Criar um nó inicial e um nó de objetivo;\n",
    " - Adicionar o nó inicial;\n",
    " - Repetir até que a lista aberta esteja vazia;\n",
    " - Obter o primeiro nó (LIFO);\n",
    " - Adicionar o nó atual à lista fechada;\n",
    " - Verificar se atingimos a meta;\n",
    " - Descompactar a posição atual do nó;\n",
    " - Obter “vizinhos”;\n",
    " - Realizar loop nos “vizinhos”;\n",
    " - Obter valor do mapa;\n",
    " - Verificar se o nó é uma parede, um fantasma ou um espaço em branco;\n",
    " - Criar um nó vizinho;\n",
    " - Verificar se o vizinho está na lista fechada;\n",
    " - Adicionar o nó, se não estiver aberto;\n",
    " - Retornar o caminho;\n",
    "\n"
   ]
  },
  {
   "cell_type": "markdown",
   "metadata": {},
   "source": [
    "## Simulated Annealing\n",
    "\n",
    "O algoritmo Simulated Annealing é um método de busca local que utiliza ferramentas probabilísticas para determinar sua proximidade com o objetivo. Este algoritmo é composto de oito parâmetros para seu funcionamento, sendo eles:\n",
    "- Mapa de referencia para localização;\n",
    "- Posição Inicial;\n",
    "- Posição Objetivo;\n",
    "- T0 que é uma variável denominada “temperatura” que define a probabilidade de dar o passo ou não de acordo com a proximidade do objetivo;\n",
    "- N que é uma variável que define a quantidade de vizinhos a serem explorados;\n",
    "- Variável “alpha” como o fator que decrementa a temperatura;\n",
    "- K como uma variável que define o tamanho do “passo” que o agente dará;\n",
    "- Variável “path” para guardar o histórico de posição que algoritmo passa;\n",
    "\n",
    "O algoritmo Simulated Annealing funciona com os seguintes passos:\n",
    "- Definição do “path”;\n",
    "- Definição das posições iniciais e finais;\n",
    "- Definição de duas variáveis aleatórias com sentido de testar os sentidos será seguido inicialmente: “para cima”, “para baixo”, “esquerda” ou “direita”;\n",
    "- Calcular a função de custo para determinar quão distante o agente está do objetivo (O cálculo da função custo diminui erro, ele vai fazer o passo, se ele tem dúvida ele calcula a probabilidade usando a função acima e se a probabilidade for maior que 50% ele dá o passo. (Significa que ele está longe));\n",
    "- Calcular deve ou não dar aquele passo;\n",
    "- Loop do algoritmo executa, modificando “alpha” enquanto a variável temperatura não se esgota ou a chegada ao objetivo é concretizada. Quanto maior T0, maior chance de ele dar o próximo passo;\n",
    "- Explorar mais “N” vezes, decrementando a “temperatura” para diminuir a probabilidade de dar o próximo passo. A função probabilidade é dado por $prob = e^{-\\frac{(prox_local-local_atual)}{T0}}$.\n",
    "\n",
    "As taxas de acerto do Simulated Annealing são variáveis mas aceitáveis em buscas em ambientes pequenos. A vantagem é a independência do mapa em sua totalidade, podendo atuar em fragmentos de dados, se adaptando facilmente as mudanças de cenário. Uma desvantagem é que a grande quantidade de hiperparametros, o que gera um custo maior no processamento.\n",
    "\n"
   ]
  },
  {
   "cell_type": "markdown",
   "metadata": {},
   "source": [
    "# Teste de Execução"
   ]
  },
  {
   "cell_type": "code",
   "execution_count": null,
   "metadata": {},
   "outputs": [],
   "source": []
  },
  {
   "cell_type": "markdown",
   "metadata": {},
   "source": [
    "# Vídeo \n",
    "\n",
    "No vídeo a seguir demonstramos com a aplicação pode ser executada. "
   ]
  },
  {
   "cell_type": "markdown",
   "metadata": {},
   "source": [
    "<video controls src=\"ImagensIA/video.mp4\" width=\"320\" height=\"240\" type=\"video/mp4\"/>"
   ]
  },
  {
   "cell_type": "code",
   "execution_count": 5,
   "metadata": {},
   "outputs": [],
   "source": [
    "from IPython.display import Video\n",
    "\n",
    "Video(\"ImagensIA/video.mp4\", embed=True);"
   ]
  },
  {
   "cell_type": "code",
   "execution_count": null,
   "metadata": {},
   "outputs": [],
   "source": []
  }
 ],
 "metadata": {
  "kernelspec": {
   "display_name": "Python 3",
   "language": "python",
   "name": "python3"
  },
  "language_info": {
   "codemirror_mode": {
    "name": "ipython",
    "version": 3
   },
   "file_extension": ".py",
   "mimetype": "text/x-python",
   "name": "python",
   "nbconvert_exporter": "python",
   "pygments_lexer": "ipython3",
   "version": "3.6.9"
  }
 },
 "nbformat": 4,
 "nbformat_minor": 2
}
