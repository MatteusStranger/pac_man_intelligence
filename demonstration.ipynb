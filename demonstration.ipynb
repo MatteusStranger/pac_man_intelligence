{
  "nbformat": 4,
  "nbformat_minor": 0,
  "metadata": {
    "kernelspec": {
      "display_name": "Python 3",
      "language": "python",
      "name": "python3"
    },
    "language_info": {
      "codemirror_mode": {
        "name": "ipython",
        "version": 3
      },
      "file_extension": ".py",
      "mimetype": "text/x-python",
      "name": "python",
      "nbconvert_exporter": "python",
      "pygments_lexer": "ipython3",
      "version": "3.8.2"
    },
    "colab": {
      "name": "demonstration.ipynb",
      "provenance": [],
      "include_colab_link": true
    }
  },
  "cells": [
    {
      "cell_type": "markdown",
      "metadata": {
        "id": "view-in-github",
        "colab_type": "text"
      },
      "source": [
        "<a href=\"https://colab.research.google.com/github/MatteusStranger/pac_man_intelligence/blob/4_chris_collab/demonstration.ipynb\" target=\"_parent\"><img src=\"https://colab.research.google.com/assets/colab-badge.svg\" alt=\"Open In Colab\"/></a>"
      ]
    },
    {
      "cell_type": "markdown",
      "metadata": {
        "id": "DhXyzKMbmfoU",
        "colab_type": "text"
      },
      "source": [
        "# Use command below to use collab"
      ]
    },
    {
      "cell_type": "code",
      "metadata": {
        "id": "2TTce7-EmfoU",
        "colab_type": "code",
        "colab": {
          "base_uri": "https://localhost:8080/",
          "height": 85
        },
        "outputId": "40b6babe-2846-48f9-ef30-f85d0632fe5d"
      },
      "source": [
        "import sys\n",
        "IN_COLAB = 'google.colab' in sys.modules\n",
        "if IN_COLAB:\n",
        "  !git clone https://github.com/MatteusStranger/pac_man_intelligence.git\n",
        "  %cd /content/pac_man_intelligence/\n",
        "  !git checkout 4_chris_collab\n",
        "  sys.path.append('/content/pac_man_intelligence/')"
      ],
      "execution_count": 1,
      "outputs": [
        {
          "output_type": "stream",
          "text": [
            "fatal: destination path 'pac_man_intelligence' already exists and is not an empty directory.\n",
            "/content/pac_man_intelligence\n",
            "Already on '4_chris_collab'\n",
            "Your branch is up to date with 'origin/4_chris_collab'.\n"
          ],
          "name": "stdout"
        }
      ]
    },
    {
      "cell_type": "code",
      "metadata": {
        "id": "GpUYhGeTmfoX",
        "colab_type": "code",
        "colab": {}
      },
      "source": [
        "import numpy as np\n",
        "## First function generate map, second add block, third add goa, last return available coordinate\n",
        "from randomfill.generate import generateDefaultRandomMap,add_block,add_goal,available_path \n",
        "## class used to convert maze str <--> int\n",
        "from tools.conversor import conversor"
      ],
      "execution_count": 0,
      "outputs": []
    },
    {
      "cell_type": "markdown",
      "metadata": {
        "id": "8T4fwBaImfoZ",
        "colab_type": "text"
      },
      "source": [
        "## About this demonstration\n",
        "### Convension \n",
        "int == str == description\n",
        "\n",
        "`0` == `|` == wall\n",
        "\n",
        "`1` == `.` == path\n",
        "\n",
        "`2` == `I` ==start point\n",
        "\n",
        "`3` == `*` == Goals\n",
        "\n",
        "`4` == `#` ==Block\n",
        "\n",
        "`5` == `F` == end point\n"
      ]
    },
    {
      "cell_type": "markdown",
      "metadata": {
        "id": "3yIBL-y7mfoa",
        "colab_type": "text"
      },
      "source": [
        "### Generate map using `generateDefaultRandomMap()`\n",
        "This function always return string maze 31 x 28\n",
        "### Convert str to numpy array `conv_str2int` as parameter use maze str\n",
        "You can use other operation like add block and add goal\n",
        "### Use `add_goal(10,np_map,inplace=True)` \n",
        "`10` means 10 goals, `np_map` means my numpy matrix, `inplace=True` means replace my np_map\n",
        "### Define start and end position `start_position = available_path(np_map)[:1][0]`\n",
        "`available_path` return all possible avaible path str == 1 if you use [:1] means get 1 available path. He return tupla like(10,12)\n",
        "\n",
        "To set start position I use `np_map[start_position[0]][start_position[1]]`. \n",
        "### See output about you matrix using `conversor.conv_int2str(np_map)`"
      ]
    },
    {
      "cell_type": "markdown",
      "metadata": {
        "id": "z-vp8e3Lmfoa",
        "colab_type": "text"
      },
      "source": [
        "## Generate map"
      ]
    },
    {
      "cell_type": "code",
      "metadata": {
        "id": "b1fl95-Mmfoa",
        "colab_type": "code",
        "colab": {
          "base_uri": "https://localhost:8080/",
          "height": 578
        },
        "outputId": "081bfe99-366e-4a80-8f18-cddae59175f4"
      },
      "source": [
        "row = 31\n",
        "column = 28 \n",
        "mymap = generateDefaultRandomMap()\n",
        "print (mymap)"
      ],
      "execution_count": 3,
      "outputs": [
        {
          "output_type": "stream",
          "text": [
            "\n",
            "||||||||||||||||||||||||||||\n",
            "|..........................|\n",
            "|.|||||.||||||||||||.|||||.|\n",
            "|.|||||.||||||||||||.|||||.|\n",
            "|.|||||..............|||||.|\n",
            "|.|||||.||||||||||||.|||||.|\n",
            "|....||.||||||||||||.||....|\n",
            "|.||.||..............||.||.|\n",
            "|.||.||.||.||||||.||.||.||.|\n",
            "|.......||.||||||.||.......|\n",
            "|.||||.|||.||||||.|||.||||.|\n",
            "|.||||.||..........||.||||.|\n",
            "|.||||.||.||||||||.||.||||.|\n",
            "|.||||.||.||||||||.||.||||.|\n",
            "|.........||||||||.........|\n",
            "|.||.||||.||||||||.||||.||.|\n",
            "|.||.||||.||||||||.||||.||.|\n",
            "|.||.||||..........||||.||.|\n",
            "|.||.||||.||.||.||.||||.||.|\n",
            "|.||......||.||.||......||.|\n",
            "|.||.||||.||....||.||||.||.|\n",
            "|....||||.|||..|||.||||....|\n",
            "|.||.||||.|||..|||.||||.||.|\n",
            "|.||.||||.|||..|||.||||.||.|\n",
            "|.....|||.|||..|||.|||.....|\n",
            "|.|||..................|||.|\n",
            "|.|||||.||||.||.||||.|||||.|\n",
            "|.|||||.||||.||.||||.|||||.|\n",
            "|.|||||.||||.||.||||.|||||.|\n",
            "|..........................|\n",
            "||||||||||||||||||||||||||||\n",
            "\n"
          ],
          "name": "stdout"
        }
      ]
    },
    {
      "cell_type": "markdown",
      "metadata": {
        "id": "RlecdAJfmfod",
        "colab_type": "text"
      },
      "source": [
        "## Show conversion string to int"
      ]
    },
    {
      "cell_type": "code",
      "metadata": {
        "id": "5P0iXjsEmfoe",
        "colab_type": "code",
        "colab": {
          "base_uri": "https://localhost:8080/",
          "height": 1000
        },
        "outputId": "5d204560-aa1f-46a3-aed9-bd2257165608"
      },
      "source": [
        "np_map = conversor.conv_str2int(row,column,mymap)\n",
        "print(np_map)"
      ],
      "execution_count": 4,
      "outputs": [
        {
          "output_type": "stream",
          "text": [
            "[[0. 0. 0. 0. 0. 0. 0. 0. 0. 0. 0. 0. 0. 0. 0. 0. 0. 0. 0. 0. 0. 0. 0. 0.\n",
            "  0. 0. 0. 0.]\n",
            " [0. 1. 1. 1. 1. 1. 1. 1. 1. 1. 1. 1. 1. 1. 1. 1. 1. 1. 1. 1. 1. 1. 1. 1.\n",
            "  1. 1. 1. 0.]\n",
            " [0. 1. 0. 0. 0. 0. 0. 1. 0. 0. 0. 0. 0. 0. 0. 0. 0. 0. 0. 0. 1. 0. 0. 0.\n",
            "  0. 0. 1. 0.]\n",
            " [0. 1. 0. 0. 0. 0. 0. 1. 0. 0. 0. 0. 0. 0. 0. 0. 0. 0. 0. 0. 1. 0. 0. 0.\n",
            "  0. 0. 1. 0.]\n",
            " [0. 1. 0. 0. 0. 0. 0. 1. 1. 1. 1. 1. 1. 1. 1. 1. 1. 1. 1. 1. 1. 0. 0. 0.\n",
            "  0. 0. 1. 0.]\n",
            " [0. 1. 0. 0. 0. 0. 0. 1. 0. 0. 0. 0. 0. 0. 0. 0. 0. 0. 0. 0. 1. 0. 0. 0.\n",
            "  0. 0. 1. 0.]\n",
            " [0. 1. 1. 1. 1. 0. 0. 1. 0. 0. 0. 0. 0. 0. 0. 0. 0. 0. 0. 0. 1. 0. 0. 1.\n",
            "  1. 1. 1. 0.]\n",
            " [0. 1. 0. 0. 1. 0. 0. 1. 1. 1. 1. 1. 1. 1. 1. 1. 1. 1. 1. 1. 1. 0. 0. 1.\n",
            "  0. 0. 1. 0.]\n",
            " [0. 1. 0. 0. 1. 0. 0. 1. 0. 0. 1. 0. 0. 0. 0. 0. 0. 1. 0. 0. 1. 0. 0. 1.\n",
            "  0. 0. 1. 0.]\n",
            " [0. 1. 1. 1. 1. 1. 1. 1. 0. 0. 1. 0. 0. 0. 0. 0. 0. 1. 0. 0. 1. 1. 1. 1.\n",
            "  1. 1. 1. 0.]\n",
            " [0. 1. 0. 0. 0. 0. 1. 0. 0. 0. 1. 0. 0. 0. 0. 0. 0. 1. 0. 0. 0. 1. 0. 0.\n",
            "  0. 0. 1. 0.]\n",
            " [0. 1. 0. 0. 0. 0. 1. 0. 0. 1. 1. 1. 1. 1. 1. 1. 1. 1. 1. 0. 0. 1. 0. 0.\n",
            "  0. 0. 1. 0.]\n",
            " [0. 1. 0. 0. 0. 0. 1. 0. 0. 1. 0. 0. 0. 0. 0. 0. 0. 0. 1. 0. 0. 1. 0. 0.\n",
            "  0. 0. 1. 0.]\n",
            " [0. 1. 0. 0. 0. 0. 1. 0. 0. 1. 0. 0. 0. 0. 0. 0. 0. 0. 1. 0. 0. 1. 0. 0.\n",
            "  0. 0. 1. 0.]\n",
            " [0. 1. 1. 1. 1. 1. 1. 1. 1. 1. 0. 0. 0. 0. 0. 0. 0. 0. 1. 1. 1. 1. 1. 1.\n",
            "  1. 1. 1. 0.]\n",
            " [0. 1. 0. 0. 1. 0. 0. 0. 0. 1. 0. 0. 0. 0. 0. 0. 0. 0. 1. 0. 0. 0. 0. 1.\n",
            "  0. 0. 1. 0.]\n",
            " [0. 1. 0. 0. 1. 0. 0. 0. 0. 1. 0. 0. 0. 0. 0. 0. 0. 0. 1. 0. 0. 0. 0. 1.\n",
            "  0. 0. 1. 0.]\n",
            " [0. 1. 0. 0. 1. 0. 0. 0. 0. 1. 1. 1. 1. 1. 1. 1. 1. 1. 1. 0. 0. 0. 0. 1.\n",
            "  0. 0. 1. 0.]\n",
            " [0. 1. 0. 0. 1. 0. 0. 0. 0. 1. 0. 0. 1. 0. 0. 1. 0. 0. 1. 0. 0. 0. 0. 1.\n",
            "  0. 0. 1. 0.]\n",
            " [0. 1. 0. 0. 1. 1. 1. 1. 1. 1. 0. 0. 1. 0. 0. 1. 0. 0. 1. 1. 1. 1. 1. 1.\n",
            "  0. 0. 1. 0.]\n",
            " [0. 1. 0. 0. 1. 0. 0. 0. 0. 1. 0. 0. 1. 1. 1. 1. 0. 0. 1. 0. 0. 0. 0. 1.\n",
            "  0. 0. 1. 0.]\n",
            " [0. 1. 1. 1. 1. 0. 0. 0. 0. 1. 0. 0. 0. 1. 1. 0. 0. 0. 1. 0. 0. 0. 0. 1.\n",
            "  1. 1. 1. 0.]\n",
            " [0. 1. 0. 0. 1. 0. 0. 0. 0. 1. 0. 0. 0. 1. 1. 0. 0. 0. 1. 0. 0. 0. 0. 1.\n",
            "  0. 0. 1. 0.]\n",
            " [0. 1. 0. 0. 1. 0. 0. 0. 0. 1. 0. 0. 0. 1. 1. 0. 0. 0. 1. 0. 0. 0. 0. 1.\n",
            "  0. 0. 1. 0.]\n",
            " [0. 1. 1. 1. 1. 1. 0. 0. 0. 1. 0. 0. 0. 1. 1. 0. 0. 0. 1. 0. 0. 0. 1. 1.\n",
            "  1. 1. 1. 0.]\n",
            " [0. 1. 0. 0. 0. 1. 1. 1. 1. 1. 1. 1. 1. 1. 1. 1. 1. 1. 1. 1. 1. 1. 1. 0.\n",
            "  0. 0. 1. 0.]\n",
            " [0. 1. 0. 0. 0. 0. 0. 1. 0. 0. 0. 0. 1. 0. 0. 1. 0. 0. 0. 0. 1. 0. 0. 0.\n",
            "  0. 0. 1. 0.]\n",
            " [0. 1. 0. 0. 0. 0. 0. 1. 0. 0. 0. 0. 1. 0. 0. 1. 0. 0. 0. 0. 1. 0. 0. 0.\n",
            "  0. 0. 1. 0.]\n",
            " [0. 1. 0. 0. 0. 0. 0. 1. 0. 0. 0. 0. 1. 0. 0. 1. 0. 0. 0. 0. 1. 0. 0. 0.\n",
            "  0. 0. 1. 0.]\n",
            " [0. 1. 1. 1. 1. 1. 1. 1. 1. 1. 1. 1. 1. 1. 1. 1. 1. 1. 1. 1. 1. 1. 1. 1.\n",
            "  1. 1. 1. 0.]\n",
            " [0. 0. 0. 0. 0. 0. 0. 0. 0. 0. 0. 0. 0. 0. 0. 0. 0. 0. 0. 0. 0. 0. 0. 0.\n",
            "  0. 0. 0. 0.]]\n"
          ],
          "name": "stdout"
        }
      ]
    },
    {
      "cell_type": "markdown",
      "metadata": {
        "id": "AyRCeTE7mfog",
        "colab_type": "text"
      },
      "source": [
        "## Add goal and block "
      ]
    },
    {
      "cell_type": "code",
      "metadata": {
        "id": "kWXXfIxRmfog",
        "colab_type": "code",
        "colab": {
          "base_uri": "https://localhost:8080/",
          "height": 1000
        },
        "outputId": "23765f04-effd-4d78-fa8d-2fa4bb940c77"
      },
      "source": [
        "add_goal(10,np_map,inplace=True) ## inplace will replacen np_map\n",
        "add_block(3,np_map,inplace=True) ## work only int \n",
        "print(np_map)\n",
        "print(conversor.conv_int2str(np_map))"
      ],
      "execution_count": 5,
      "outputs": [
        {
          "output_type": "stream",
          "text": [
            "[[0. 0. 0. 0. 0. 0. 0. 0. 0. 0. 0. 0. 0. 0. 0. 0. 0. 0. 0. 0. 0. 0. 0. 0.\n",
            "  0. 0. 0. 0.]\n",
            " [0. 1. 1. 3. 1. 1. 1. 1. 1. 1. 1. 1. 3. 1. 1. 1. 1. 1. 1. 1. 1. 1. 1. 1.\n",
            "  1. 1. 1. 0.]\n",
            " [0. 1. 0. 0. 0. 0. 0. 1. 0. 0. 0. 0. 0. 0. 0. 0. 0. 0. 0. 0. 1. 0. 0. 0.\n",
            "  0. 0. 1. 0.]\n",
            " [0. 1. 0. 0. 0. 0. 0. 1. 0. 0. 0. 0. 0. 0. 0. 0. 0. 0. 0. 0. 1. 0. 0. 0.\n",
            "  0. 0. 4. 0.]\n",
            " [0. 1. 0. 0. 0. 0. 0. 1. 1. 1. 1. 1. 1. 1. 3. 1. 1. 1. 1. 3. 1. 0. 0. 0.\n",
            "  0. 0. 1. 0.]\n",
            " [0. 1. 0. 0. 0. 0. 0. 1. 0. 0. 0. 0. 0. 0. 0. 0. 0. 0. 0. 0. 1. 0. 0. 0.\n",
            "  0. 0. 1. 0.]\n",
            " [0. 3. 1. 1. 1. 0. 0. 1. 0. 0. 0. 0. 0. 0. 0. 0. 0. 0. 0. 0. 1. 0. 0. 1.\n",
            "  1. 1. 1. 0.]\n",
            " [0. 3. 0. 0. 1. 0. 0. 1. 1. 1. 1. 1. 1. 1. 1. 1. 1. 1. 1. 1. 1. 0. 0. 1.\n",
            "  0. 0. 1. 0.]\n",
            " [0. 1. 0. 0. 1. 0. 0. 1. 0. 0. 1. 0. 0. 0. 0. 0. 0. 1. 0. 0. 1. 0. 0. 1.\n",
            "  0. 0. 1. 0.]\n",
            " [0. 1. 1. 1. 1. 1. 1. 3. 0. 0. 1. 0. 0. 0. 0. 0. 0. 1. 0. 0. 1. 1. 1. 1.\n",
            "  1. 1. 1. 0.]\n",
            " [0. 1. 0. 0. 0. 0. 1. 0. 0. 0. 1. 0. 0. 0. 0. 0. 0. 1. 0. 0. 0. 1. 0. 0.\n",
            "  0. 0. 1. 0.]\n",
            " [0. 1. 0. 0. 0. 0. 1. 0. 0. 1. 1. 1. 1. 4. 1. 1. 1. 1. 1. 0. 0. 1. 0. 0.\n",
            "  0. 0. 1. 0.]\n",
            " [0. 3. 0. 0. 0. 0. 1. 0. 0. 1. 0. 0. 0. 0. 0. 0. 0. 0. 1. 0. 0. 1. 0. 0.\n",
            "  0. 0. 1. 0.]\n",
            " [0. 1. 0. 0. 0. 0. 1. 0. 0. 1. 0. 0. 0. 0. 0. 0. 0. 0. 1. 0. 0. 1. 0. 0.\n",
            "  0. 0. 1. 0.]\n",
            " [0. 1. 1. 1. 1. 1. 1. 1. 1. 1. 0. 0. 0. 0. 0. 0. 0. 0. 1. 1. 1. 1. 1. 1.\n",
            "  1. 1. 1. 0.]\n",
            " [0. 1. 0. 0. 1. 0. 0. 0. 0. 1. 0. 0. 0. 0. 0. 0. 0. 0. 1. 0. 0. 0. 0. 1.\n",
            "  0. 0. 1. 0.]\n",
            " [0. 1. 0. 0. 1. 0. 0. 0. 0. 1. 0. 0. 0. 0. 0. 0. 0. 0. 1. 0. 0. 0. 0. 1.\n",
            "  0. 0. 1. 0.]\n",
            " [0. 1. 0. 0. 1. 0. 0. 0. 0. 1. 1. 1. 1. 1. 1. 1. 1. 1. 1. 0. 0. 0. 0. 1.\n",
            "  0. 0. 1. 0.]\n",
            " [0. 1. 0. 0. 1. 0. 0. 0. 0. 1. 0. 0. 1. 0. 0. 1. 0. 0. 1. 0. 0. 0. 0. 1.\n",
            "  0. 0. 1. 0.]\n",
            " [0. 1. 0. 0. 1. 1. 1. 1. 1. 1. 0. 0. 1. 0. 0. 1. 0. 0. 1. 1. 1. 1. 1. 1.\n",
            "  0. 0. 1. 0.]\n",
            " [0. 1. 0. 0. 1. 0. 0. 0. 0. 1. 0. 0. 1. 1. 1. 1. 0. 0. 1. 0. 0. 0. 0. 1.\n",
            "  0. 0. 1. 0.]\n",
            " [0. 1. 1. 1. 1. 0. 0. 0. 0. 1. 0. 0. 0. 3. 1. 0. 0. 0. 1. 0. 0. 0. 0. 1.\n",
            "  1. 1. 1. 0.]\n",
            " [0. 1. 0. 0. 1. 0. 0. 0. 0. 1. 0. 0. 0. 1. 1. 0. 0. 0. 1. 0. 0. 0. 0. 1.\n",
            "  0. 0. 1. 0.]\n",
            " [0. 1. 0. 0. 1. 0. 0. 0. 0. 1. 0. 0. 0. 1. 1. 0. 0. 0. 1. 0. 0. 0. 0. 1.\n",
            "  0. 0. 1. 0.]\n",
            " [0. 1. 1. 1. 1. 1. 0. 0. 0. 1. 0. 0. 0. 1. 1. 0. 0. 0. 1. 0. 0. 0. 1. 1.\n",
            "  1. 1. 1. 0.]\n",
            " [0. 1. 0. 0. 0. 1. 1. 1. 1. 1. 1. 1. 1. 1. 1. 1. 1. 1. 1. 1. 1. 1. 1. 0.\n",
            "  0. 0. 4. 0.]\n",
            " [0. 1. 0. 0. 0. 0. 0. 1. 0. 0. 0. 0. 1. 0. 0. 1. 0. 0. 0. 0. 1. 0. 0. 0.\n",
            "  0. 0. 1. 0.]\n",
            " [0. 1. 0. 0. 0. 0. 0. 1. 0. 0. 0. 0. 1. 0. 0. 1. 0. 0. 0. 0. 1. 0. 0. 0.\n",
            "  0. 0. 1. 0.]\n",
            " [0. 1. 0. 0. 0. 0. 0. 1. 0. 0. 0. 0. 1. 0. 0. 1. 0. 0. 0. 0. 1. 0. 0. 0.\n",
            "  0. 0. 1. 0.]\n",
            " [0. 1. 1. 1. 1. 1. 1. 1. 1. 1. 1. 1. 1. 1. 1. 1. 1. 1. 1. 1. 1. 3. 1. 1.\n",
            "  1. 1. 1. 0.]\n",
            " [0. 0. 0. 0. 0. 0. 0. 0. 0. 0. 0. 0. 0. 0. 0. 0. 0. 0. 0. 0. 0. 0. 0. 0.\n",
            "  0. 0. 0. 0.]]\n",
            "||||||||||||||||||||||||||||\n",
            "|..*........*..............|\n",
            "|.|||||.||||||||||||.|||||.|\n",
            "|.|||||.||||||||||||.|||||#|\n",
            "|.|||||.......*....*.|||||.|\n",
            "|.|||||.||||||||||||.|||||.|\n",
            "|*...||.||||||||||||.||....|\n",
            "|*||.||..............||.||.|\n",
            "|.||.||.||.||||||.||.||.||.|\n",
            "|......*||.||||||.||.......|\n",
            "|.||||.|||.||||||.|||.||||.|\n",
            "|.||||.||....#.....||.||||.|\n",
            "|*||||.||.||||||||.||.||||.|\n",
            "|.||||.||.||||||||.||.||||.|\n",
            "|.........||||||||.........|\n",
            "|.||.||||.||||||||.||||.||.|\n",
            "|.||.||||.||||||||.||||.||.|\n",
            "|.||.||||..........||||.||.|\n",
            "|.||.||||.||.||.||.||||.||.|\n",
            "|.||......||.||.||......||.|\n",
            "|.||.||||.||....||.||||.||.|\n",
            "|....||||.|||*.|||.||||....|\n",
            "|.||.||||.|||..|||.||||.||.|\n",
            "|.||.||||.|||..|||.||||.||.|\n",
            "|.....|||.|||..|||.|||.....|\n",
            "|.|||..................|||#|\n",
            "|.|||||.||||.||.||||.|||||.|\n",
            "|.|||||.||||.||.||||.|||||.|\n",
            "|.|||||.||||.||.||||.|||||.|\n",
            "|....................*.....|\n",
            "||||||||||||||||||||||||||||\n",
            "\n"
          ],
          "name": "stdout"
        }
      ]
    },
    {
      "cell_type": "markdown",
      "metadata": {
        "id": "OHUQj4iYmfoi",
        "colab_type": "text"
      },
      "source": [
        "## Defining Start and end position"
      ]
    },
    {
      "cell_type": "code",
      "metadata": {
        "id": "6CSNb-kgmfoj",
        "colab_type": "code",
        "colab": {}
      },
      "source": [
        "start_position = available_path(np_map)[:1][0]\n",
        "end_position = available_path(np_map)[:1][0]\n",
        "np_map[start_position[0]][start_position[1]] = 2\n",
        "np_map[end_position[0]][end_position[1]] = 5"
      ],
      "execution_count": 0,
      "outputs": []
    },
    {
      "cell_type": "markdown",
      "metadata": {
        "id": "qVH67PWemfol",
        "colab_type": "text"
      },
      "source": [
        "## Display how look like"
      ]
    },
    {
      "cell_type": "code",
      "metadata": {
        "id": "Q2tu7FOfmfol",
        "colab_type": "code",
        "colab": {
          "base_uri": "https://localhost:8080/",
          "height": 561
        },
        "outputId": "82f1c223-4ef7-412a-cde0-8c2ca0073f09"
      },
      "source": [
        "print(conversor.conv_int2str(np_map))"
      ],
      "execution_count": 7,
      "outputs": [
        {
          "output_type": "stream",
          "text": [
            "||||||||||||||||||||||||||||\n",
            "|..*........*..............|\n",
            "|.|||||.||||||||||||.|||||.|\n",
            "|.|||||.||||||||||||.|||||#|\n",
            "|.|||||.......*....*.|||||.|\n",
            "|.|||||.||||||||||||.|||||.|\n",
            "|*...||.||||||||||||.||....|\n",
            "|*||.||..............||.||.|\n",
            "|.||.||.||.||||||.||.||.||.|\n",
            "|......*||.||||||.||.......|\n",
            "|.||||.|||.||||||.|||.||||.|\n",
            "|.||||.||....#.....||.||||.|\n",
            "|*||||.||.||||||||.||.||||.|\n",
            "|.||||.||.||||||||.||.||||.|\n",
            "|.........||||||||.........|\n",
            "|.||.||||.||||||||.||||.||.|\n",
            "|.||.||||.||||||||.||||.||.|\n",
            "|.||.||||..........||||.||.|\n",
            "|.||.||||.||.||.||.||||.||.|\n",
            "|.||......||.||.||......||.|\n",
            "|.||.||||.||....||.||||.||.|\n",
            "|....||||.|||*.|||.||||....|\n",
            "|.||.||||.|||..|||.||||.||.|\n",
            "|.||.||||.|||..|||.||||.||.|\n",
            "|.....|||.|||..|||.|||.....|\n",
            "|.|||..................|||#|\n",
            "|.|||||.||||.||F||||.|||||.|\n",
            "|.|||||.||||.||.||||.|||||.|\n",
            "|.|||||.||||.||.||||.|||||.|\n",
            "|......I.............*.....|\n",
            "||||||||||||||||||||||||||||\n",
            "\n"
          ],
          "name": "stdout"
        }
      ]
    },
    {
      "cell_type": "markdown",
      "metadata": {
        "id": "orlI3yy9mfon",
        "colab_type": "text"
      },
      "source": [
        "## Imagine you are at position"
      ]
    },
    {
      "cell_type": "code",
      "metadata": {
        "id": "pwZdyiTdmfon",
        "colab_type": "code",
        "colab": {
          "base_uri": "https://localhost:8080/",
          "height": 34
        },
        "outputId": "0d289d1b-445a-4c0f-9354-136fa9cec8f4"
      },
      "source": [
        "start_position"
      ],
      "execution_count": 8,
      "outputs": [
        {
          "output_type": "execute_result",
          "data": {
            "text/plain": [
              "(29, 7)"
            ]
          },
          "metadata": {
            "tags": []
          },
          "execution_count": 8
        }
      ]
    },
    {
      "cell_type": "markdown",
      "metadata": {
        "id": "Wz2MAyl5mfop",
        "colab_type": "text"
      },
      "source": [
        "## To walk in matrix you use this logic"
      ]
    },
    {
      "cell_type": "code",
      "metadata": {
        "id": "spe4gEbpmfoq",
        "colab_type": "code",
        "colab": {
          "base_uri": "https://localhost:8080/",
          "height": 102
        },
        "outputId": "5286f57c-491d-4f9a-b864-86a0421eddfe"
      },
      "source": [
        "step = {'left':(0,-1),'right':(0,1),'down':(1,0),'up':(-1,0)} # simulate step to up,down,right,left \n",
        "print(f\"suppose I 'm {start_position}\")\n",
        "for i in step:\n",
        "    print(f\"Go to {i} - coordinate :{start_position[0] + step[i][0], start_position[1] + step[i][1]}\")"
      ],
      "execution_count": 9,
      "outputs": [
        {
          "output_type": "stream",
          "text": [
            "suppose I 'm (29, 7)\n",
            "Go to left - coordinate :(29, 6)\n",
            "Go to right - coordinate :(29, 8)\n",
            "Go to down - coordinate :(30, 7)\n",
            "Go to up - coordinate :(28, 7)\n"
          ],
          "name": "stdout"
        }
      ]
    },
    {
      "cell_type": "code",
      "metadata": {
        "id": "i7PfGWpvmfot",
        "colab_type": "code",
        "colab": {}
      },
      "source": [
        "def is_valid(new_x,new_y,n_max,m_max):\n",
        "    return ((new_x>=0)&(new_x<n_max) & (0>=0)&(new_y<m_max))"
      ],
      "execution_count": 0,
      "outputs": []
    },
    {
      "cell_type": "code",
      "metadata": {
        "id": "6Bfx-eBcmfov",
        "colab_type": "code",
        "colab": {}
      },
      "source": [
        "start_position = list(start_position)\n",
        "point = 0"
      ],
      "execution_count": 0,
      "outputs": []
    },
    {
      "cell_type": "code",
      "metadata": {
        "id": "uD2ZaKQKmfox",
        "colab_type": "code",
        "colab": {
          "base_uri": "https://localhost:8080/",
          "height": 1000
        },
        "outputId": "2b5b9d21-53db-4c19-f1eb-8ff6447935d9"
      },
      "source": [
        "choose_direction = 'right'\n",
        "print('Before walking...')\n",
        "print(conversor.conv_int2str(np_map))\n",
        "old_x = start_position[0]\n",
        "old_y = start_position[1]\n",
        "new_x = old_x+step[choose_direction][0]\n",
        "new_y = old_y+step[choose_direction][1]\n",
        "if is_valid(new_x,new_y,31,28):\n",
        "    if (np_map[new_x][new_y] == 1) | (np_map[new_x][new_y] == 3) | (np_map[new_x][new_y] == 5):\n",
        "        temp = np_map[old_x][old_y]\n",
        "        np_map[old_x][old_y] = np_map[new_x][new_y]\n",
        "        np_map[new_x][new_y] = temp\n",
        "        start_position[0] = new_x\n",
        "        start_position[1] = new_y\n",
        "        if np_map[old_x][old_y] == 3:\n",
        "            point = point + 100\n",
        "            np_map[old_x][old_y] = 1\n",
        "        if np_map[old_y][old_y] == 5:\n",
        "            point = point + 500\n",
        "            np_map[old_x][old_y] = 1\n",
        "            print('You got your goal!')\n",
        "            \n",
        "    else:\n",
        "        print(np_map[new_x][new_x])\n",
        "        print(f'{new_x} {new_y} {choose_direction} ')\n",
        "        print('I cant walk this way')\n",
        "else:\n",
        "    print('Invalid direction')\n",
        "print('After walking...')\n",
        "print(conversor.conv_int2str(np_map))"
      ],
      "execution_count": 12,
      "outputs": [
        {
          "output_type": "stream",
          "text": [
            "Before walking...\n",
            "||||||||||||||||||||||||||||\n",
            "|..*........*..............|\n",
            "|.|||||.||||||||||||.|||||.|\n",
            "|.|||||.||||||||||||.|||||#|\n",
            "|.|||||.......*....*.|||||.|\n",
            "|.|||||.||||||||||||.|||||.|\n",
            "|*...||.||||||||||||.||....|\n",
            "|*||.||..............||.||.|\n",
            "|.||.||.||.||||||.||.||.||.|\n",
            "|......*||.||||||.||.......|\n",
            "|.||||.|||.||||||.|||.||||.|\n",
            "|.||||.||....#.....||.||||.|\n",
            "|*||||.||.||||||||.||.||||.|\n",
            "|.||||.||.||||||||.||.||||.|\n",
            "|.........||||||||.........|\n",
            "|.||.||||.||||||||.||||.||.|\n",
            "|.||.||||.||||||||.||||.||.|\n",
            "|.||.||||..........||||.||.|\n",
            "|.||.||||.||.||.||.||||.||.|\n",
            "|.||......||.||.||......||.|\n",
            "|.||.||||.||....||.||||.||.|\n",
            "|....||||.|||*.|||.||||....|\n",
            "|.||.||||.|||..|||.||||.||.|\n",
            "|.||.||||.|||..|||.||||.||.|\n",
            "|.....|||.|||..|||.|||.....|\n",
            "|.|||..................|||#|\n",
            "|.|||||.||||.||F||||.|||||.|\n",
            "|.|||||.||||.||.||||.|||||.|\n",
            "|.|||||.||||.||.||||.|||||.|\n",
            "|......I.............*.....|\n",
            "||||||||||||||||||||||||||||\n",
            "\n",
            "After walking...\n",
            "||||||||||||||||||||||||||||\n",
            "|..*........*..............|\n",
            "|.|||||.||||||||||||.|||||.|\n",
            "|.|||||.||||||||||||.|||||#|\n",
            "|.|||||.......*....*.|||||.|\n",
            "|.|||||.||||||||||||.|||||.|\n",
            "|*...||.||||||||||||.||....|\n",
            "|*||.||..............||.||.|\n",
            "|.||.||.||.||||||.||.||.||.|\n",
            "|......*||.||||||.||.......|\n",
            "|.||||.|||.||||||.|||.||||.|\n",
            "|.||||.||....#.....||.||||.|\n",
            "|*||||.||.||||||||.||.||||.|\n",
            "|.||||.||.||||||||.||.||||.|\n",
            "|.........||||||||.........|\n",
            "|.||.||||.||||||||.||||.||.|\n",
            "|.||.||||.||||||||.||||.||.|\n",
            "|.||.||||..........||||.||.|\n",
            "|.||.||||.||.||.||.||||.||.|\n",
            "|.||......||.||.||......||.|\n",
            "|.||.||||.||....||.||||.||.|\n",
            "|....||||.|||*.|||.||||....|\n",
            "|.||.||||.|||..|||.||||.||.|\n",
            "|.||.||||.|||..|||.||||.||.|\n",
            "|.....|||.|||..|||.|||.....|\n",
            "|.|||..................|||#|\n",
            "|.|||||.||||.||F||||.|||||.|\n",
            "|.|||||.||||.||.||||.|||||.|\n",
            "|.|||||.||||.||.||||.|||||.|\n",
            "|.......I............*.....|\n",
            "||||||||||||||||||||||||||||\n",
            "\n"
          ],
          "name": "stdout"
        }
      ]
    },
    {
      "cell_type": "code",
      "metadata": {
        "id": "RhraMlLEmfoy",
        "colab_type": "code",
        "colab": {}
      },
      "source": [
        ""
      ],
      "execution_count": 0,
      "outputs": []
    },
    {
      "cell_type": "code",
      "metadata": {
        "id": "ymdGv1svmfo0",
        "colab_type": "code",
        "colab": {}
      },
      "source": [
        ""
      ],
      "execution_count": 0,
      "outputs": []
    }
  ]
}